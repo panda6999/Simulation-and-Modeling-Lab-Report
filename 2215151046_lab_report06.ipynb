{
  "nbformat": 4,
  "nbformat_minor": 0,
  "metadata": {
    "colab": {
      "provenance": [],
      "authorship_tag": "ABX9TyMYhP0kDh0REocCf6oQ8ZT/",
      "include_colab_link": true
    },
    "kernelspec": {
      "name": "python3",
      "display_name": "Python 3"
    },
    "language_info": {
      "name": "python"
    }
  },
  "cells": [
    {
      "cell_type": "markdown",
      "metadata": {
        "id": "view-in-github",
        "colab_type": "text"
      },
      "source": [
        "<a href=\"https://colab.research.google.com/github/panda6999/Simulation-and-Modeling-Lab-Report/blob/main/2215151046_lab_report06.ipynb\" target=\"_parent\"><img src=\"https://colab.research.google.com/assets/colab-badge.svg\" alt=\"Open In Colab\"/></a>"
      ]
    },
    {
      "cell_type": "markdown",
      "source": [
        "MD.HABIBUL BASHAR\n",
        "\n",
        "ID: 2215151046\n",
        "\n",
        "BATCH: 51(A2) **bold text**\n",
        "\n",
        "\n",
        "1.Perform a simulation for 200 customers with λ=3and μ=4. Calculate and compare the\n",
        "waiting time and server utilization."
      ],
      "metadata": {
        "id": "IaONuNF_X09O"
      }
    },
    {
      "cell_type": "code",
      "execution_count": 15,
      "metadata": {
        "colab": {
          "base_uri": "https://localhost:8080/"
        },
        "id": "D7wAZ2g2QY7c",
        "outputId": "add0aa56-036e-4e32-b0e3-52e1cc920de1"
      },
      "outputs": [
        {
          "output_type": "stream",
          "name": "stdout",
          "text": [
            "λ=3, μ=4:\n",
            "Average Waiting Time: 31.8430 units\n",
            "Server Busy Time: 49.4912 units\n",
            "Total Time: 63.3836 units\n",
            "Server Utilization: 0.7808\n"
          ]
        }
      ],
      "source": [
        "import numpy as np\n",
        "import matplotlib.pyplot as plt\n",
        "\n",
        "np.random.seed(42)\n",
        "\n",
        "# parameters\n",
        "lambda1 = 3\n",
        "mu1= 4\n",
        "n_customers = 200\n",
        "\n",
        "# generate inter-arrival times and service times\n",
        "inter_arrival_times = np.random.exponential(1/lambda1, n_customers)\n",
        "service_times = np.random.exponential(1/mu1, n_customers)\n",
        "\n",
        "# initialize arrival and service start times\n",
        "arrival_times = np.cumsum(inter_arrival_times)\n",
        "start_times = np.zeros(n_customers)\n",
        "end_times = np.zeros(n_customers)\n",
        "waiting_times = np.zeros(n_customers)\n",
        "\n",
        "start_times [0] = arrival_times[0]\n",
        "end_times[0] = start_times[0] + service_times[0]\n",
        "\n",
        "for i in range(1, n_customers):\n",
        "\n",
        "    start_times[i] = max(arrival_times[i], end_times[i-1])\n",
        "    end_times[i] = start_times [i] + service_times[i]\n",
        "    waiting_times [i] = start_times[i] + service_times[i]\n",
        "\n",
        "# metrics\n",
        "average_waiting = np.mean(waiting_times)\n",
        "server_busy_time = np.sum(service_times)\n",
        "total_time = end_times[-1]\n",
        "server_utilize = server_busy_time / total_time\n",
        "\n",
        "print(f\"λ=3, μ=4:\")\n",
        "print(f\"Average Waiting Time: {average_waiting:.4f} units\")\n",
        "print(f\"Server Busy Time: {server_busy_time:.4f} units\")\n",
        "print(f\"Total Time: {total_time:.4f} units\")\n",
        "print(f\"Server Utilization: {server_utilize:.4f}\")"
      ]
    },
    {
      "cell_type": "markdown",
      "source": [
        "2.Simulate a system with λ=8 and μ=6. Discuss the impact of server overload on system\n",
        "performance."
      ],
      "metadata": {
        "id": "sVBXYujmYJOo"
      }
    },
    {
      "cell_type": "code",
      "source": [
        "lambda2 = 8\n",
        "mu = 6\n",
        "\n",
        "inter_arrival_times2 = np.random.exponential(1/lambda2, n_customers)\n",
        "service_times2 = np.random.exponential(1/mu, n_customers)\n",
        "\n",
        "arrival_times2 = np.cumsum(inter_arrival_times2)\n",
        "start2_times2 = np.zeros(n_customers)\n",
        "end_times2 = np.zeros(n_customers)\n",
        "waiting_times2 = np.zeros(n_customers)\n",
        "\n",
        "\n",
        "start2_times2 [0] = arrival_times2[0]\n",
        "end_times2[0] = start2_times2[0] + service_times2[0]\n",
        "\n",
        "for i in range(1, n_customers):\n",
        "  start2_times2[i] = max(arrival_times2[i], end_times2[i-1])\n",
        "  end_times2[i] = start2_times2[i] + service_times2[i]\n",
        "  waiting_times2[i] = start2_times2[i] - arrival_times2[i]\n",
        "\n",
        "average_waiting2 = np.mean(waiting_times2)\n",
        "server_busy_time2 = np.sum(service_times2)\n",
        "total_time2 = end_times2[-1]\n",
        "server_utilize2 = server_busy_time2 / total_time2\n",
        "\n",
        "print(f\"\\nλ=8, μ=6 (server overload):\")\n",
        "print(f\"Average Waiting Time: {average_waiting2:.4f} units\")\n",
        "print(f\"server utilization: {server_utilize2:.4f}\")\n"
      ],
      "metadata": {
        "colab": {
          "base_uri": "https://localhost:8080/"
        },
        "id": "1RZMVlvvYKz5",
        "outputId": "b7001087-63ff-44ec-c03f-e1393f8f29c4"
      },
      "execution_count": 16,
      "outputs": [
        {
          "output_type": "stream",
          "name": "stdout",
          "text": [
            "\n",
            "λ=8, μ=6 (server overload):\n",
            "Average Waiting Time: 0.8775 units\n",
            "server utilization: 0.9126\n"
          ]
        }
      ]
    },
    {
      "cell_type": "markdown",
      "source": [
        "3.Modify the program to include a limited queue capacity (e.g., maximum 10 customers).\n",
        "Analyze how this affects the performance metrics."
      ],
      "metadata": {
        "id": "YT5EjOJceO8x"
      }
    },
    {
      "cell_type": "code",
      "source": [
        "queue_limit = 10\n",
        "\n",
        "arrival_times3 = np.cumsum(np.random.exponential(1/lambda1, n_customers))\n",
        "service_times3 = np.random.exponential(1/mu1, n_customers)\n",
        "\n",
        "start_times3 = []\n",
        "end_times3 = []\n",
        "waiting_times3 = []\n",
        "\n",
        "queue = []\n",
        "\n",
        "time = 0\n",
        "served = 0\n",
        "rejected = 0\n",
        "\n",
        "for i in range(n_customers):\n",
        "  arrival = arrival_times3[i]\n",
        "  service = service_times3[i]\n",
        "\n",
        "# remove finished customers\n",
        "  queue = [e for e in queue if e > arrival]\n",
        "\n",
        "  if len(queue) < queue_limit:\n",
        "    if not queue:\n",
        "      start = arrival\n",
        "    else:\n",
        "        start = queue[-1]\n",
        "    end = start + service\n",
        "    queue.append(end)\n",
        "\n",
        "    start_times3.append(start)\n",
        "    end_times3.append(end)\n",
        "    waiting_times3.append(start - arrival)\n",
        "    served += 1\n",
        "  else:\n",
        "    rejected += 1\n",
        "\n",
        "average_waiting3 = np.mean(waiting_times3)\n",
        "utilization3 = np.sum(service_times3[:served]) / (end_times3[-1] if end_times3 else 1)\n",
        "\n",
        "print(f\"\\nλ=3, μ=4 with Queue Limit = {queue_limit}:\")\n",
        "print(f\"Average Waiting Time: {average_waiting3:.4f} units\")\n",
        "print(f\"Server Utilization: {utilization3:.4f}\")\n",
        "print(f\"Customers Served: {served}\")\n",
        "print(f\"Customers Rejected: {rejected}\")\n",
        "\n"
      ],
      "metadata": {
        "colab": {
          "base_uri": "https://localhost:8080/"
        },
        "id": "Mjy9SnekeRAy",
        "outputId": "5a6eb43f-5b64-448a-ceb2-5df146f95c5d"
      },
      "execution_count": 17,
      "outputs": [
        {
          "output_type": "stream",
          "name": "stdout",
          "text": [
            "\n",
            "λ=3, μ=4 with Queue Limit = 10:\n",
            "Average Waiting Time: 1.2168 units\n",
            "Server Utilization: 0.9088\n",
            "Customers Served: 186\n",
            "Customers Rejected: 14\n"
          ]
        }
      ]
    }
  ]
}