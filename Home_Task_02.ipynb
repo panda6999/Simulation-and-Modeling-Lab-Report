{
  "nbformat": 4,
  "nbformat_minor": 0,
  "metadata": {
    "colab": {
      "provenance": [],
      "authorship_tag": "ABX9TyM7wc1vGB3vtsruSNLy7y6Y",
      "include_colab_link": true
    },
    "kernelspec": {
      "name": "python3",
      "display_name": "Python 3"
    },
    "language_info": {
      "name": "python"
    }
  },
  "cells": [
    {
      "cell_type": "markdown",
      "metadata": {
        "id": "view-in-github",
        "colab_type": "text"
      },
      "source": [
        "<a href=\"https://colab.research.google.com/github/panda6999/panda6999-Home_task01_id_2215151046.ipynb/blob/main/Home_Task_02.ipynb\" target=\"_parent\"><img src=\"https://colab.research.google.com/assets/colab-badge.svg\" alt=\"Open In Colab\"/></a>"
      ]
    },
    {
      "cell_type": "code",
      "execution_count": 1,
      "metadata": {
        "colab": {
          "base_uri": "https://localhost:8080/"
        },
        "id": "fgOGCS8z41dK",
        "outputId": "0add97be-40c1-4ef2-ed5b-7eb5d404f32c"
      },
      "outputs": [
        {
          "output_type": "stream",
          "name": "stdout",
          "text": [
            "Matrx With fixed seed:\n",
            "[[10 37 16]\n",
            " [ 1 50 29]\n",
            " [26 30 49]]\n",
            "\n",
            "Matrix Without fixed seed:\n",
            "[[30 50  9]\n",
            " [10  1 43]\n",
            " [41 37 17]]\n"
          ]
        }
      ],
      "source": [
        "import numpy as np\n",
        "\n",
        "#with fixed seed\n",
        "np.random.seed(10)\n",
        "fixed_seed_matrix = np.random.randint(1, 51, (3, 3))\n",
        "print(\"Matrx With fixed seed:\")\n",
        "print(fixed_seed_matrix)\n",
        "\n",
        "\n",
        "# Without setting a seed\n",
        "random_matrix = np.random.randint(1, 51, (3,3))\n",
        "print(\"\\nMatrix Without fixed seed:\")\n",
        "print(random_matrix)"
      ]
    }
  ]
}