{
  "nbformat": 4,
  "nbformat_minor": 0,
  "metadata": {
    "colab": {
      "provenance": [],
      "authorship_tag": "ABX9TyOrr8S6I6uBEfRf3HL8tNHJ",
      "include_colab_link": true
    },
    "kernelspec": {
      "name": "python3",
      "display_name": "Python 3"
    },
    "language_info": {
      "name": "python"
    }
  },
  "cells": [
    {
      "cell_type": "markdown",
      "metadata": {
        "id": "view-in-github",
        "colab_type": "text"
      },
      "source": [
        "<a href=\"https://colab.research.google.com/github/panda6999/panda6999-Home_task01_id_2215151046.ipynb/blob/main/Home_Task_02.ipynb\" target=\"_parent\"><img src=\"https://colab.research.google.com/assets/colab-badge.svg\" alt=\"Open In Colab\"/></a>"
      ]
    },
    {
      "cell_type": "code",
      "execution_count": 2,
      "metadata": {
        "colab": {
          "base_uri": "https://localhost:8080/"
        },
        "id": "fgOGCS8z41dK",
        "outputId": "8eb0c4a0-0c5e-41e0-f37c-eba383ded72d"
      },
      "outputs": [
        {
          "output_type": "stream",
          "name": "stdout",
          "text": [
            "Matrx With fixed seed:\n",
            "[[10 37 16]\n",
            " [ 1 50 29]\n",
            " [26 30 49]]\n",
            "\n",
            "Matrix Without fixed seed:\n",
            "[[30 50  9]\n",
            " [10  1 43]\n",
            " [41 37 17]]\n"
          ]
        }
      ],
      "source": [
        "import numpy as np\n",
        "\n",
        "#with fixed seed\n",
        "np.random.seed(10)\n",
        "fixed_seed_matrix = np.random.randint(1, 51, (3, 3))\n",
        "print(\"Matrx With fixed seed:\")\n",
        "print(fixed_seed_matrix)\n",
        "\n",
        "\n",
        "# Without setting a seed\n",
        "random_matrix = np.random.randint(1, 51, (3,3))\n",
        "print(\"\\nMatrix Without fixed seed:\")\n",
        "print(random_matrix)"
      ]
    },
    {
      "cell_type": "markdown",
      "source": [],
      "metadata": {
        "id": "uzbwjYVU-NX9"
      }
    },
    {
      "cell_type": "markdown",
      "source": [
        "# Differences between Seeded and non-Seeded outputs:\n",
        "\n",
        "In the firsr matrix, np.random.seed(10) makes sure the random numbers stay the same every time you run the code.\n",
        "\n",
        "In the second matrix, np.random.seed(None) allows new random numbers to e generated every time.\n",
        "\n",
        "The saved value (like 10) can be any number. It just ensures thr same sequence of the random numbers. Different seeds create different sequences.\n"
      ],
      "metadata": {
        "id": "NqOujZt39Qty"
      }
    },
    {
      "cell_type": "markdown",
      "source": [
        "Name: MD.HABIBUL BASHAR\n",
        "\n",
        "ID: 2215151046\n",
        "\n",
        "Section: 7(A2)\n",
        "\n",
        "Course: Simulation and Modeling Lab\n",
        "\n",
        "Course Code: CSE 413"
      ],
      "metadata": {
        "id": "BzAehlsR8OUr"
      }
    }
  ]
}