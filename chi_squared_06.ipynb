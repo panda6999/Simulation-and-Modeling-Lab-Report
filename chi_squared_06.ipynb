{
  "nbformat": 4,
  "nbformat_minor": 0,
  "metadata": {
    "colab": {
      "provenance": [],
      "authorship_tag": "ABX9TyOm5Yamr8poZyzF++m0kE/E",
      "include_colab_link": true
    },
    "kernelspec": {
      "name": "python3",
      "display_name": "Python 3"
    },
    "language_info": {
      "name": "python"
    }
  },
  "cells": [
    {
      "cell_type": "markdown",
      "metadata": {
        "id": "view-in-github",
        "colab_type": "text"
      },
      "source": [
        "<a href=\"https://colab.research.google.com/github/panda6999/Simulation-and-Modeling-Lab-Report/blob/main/chi_squared_06.ipynb\" target=\"_parent\"><img src=\"https://colab.research.google.com/assets/colab-badge.svg\" alt=\"Open In Colab\"/></a>"
      ]
    },
    {
      "cell_type": "code",
      "execution_count": 68,
      "metadata": {
        "id": "-HeamiHxFxRA"
      },
      "outputs": [],
      "source": [
        "import numpy as np\n",
        "import scipy.stats as stats\n",
        "import matplotlib.pyplot as plt"
      ]
    },
    {
      "cell_type": "code",
      "source": [
        "observed = np.random.randint(1, 10, size=10)"
      ],
      "metadata": {
        "id": "GZ6dEQqNMO6Y"
      },
      "execution_count": 69,
      "outputs": []
    },
    {
      "cell_type": "code",
      "source": [
        "total = np.sum(observed)\n",
        "expected = np.full_like(observed, total / len(observed))"
      ],
      "metadata": {
        "id": "_TiiIkWZNgNo"
      },
      "execution_count": 70,
      "outputs": []
    },
    {
      "cell_type": "code",
      "source": [
        "chi_square_stat = np.sum((observed - expected) ** 2)"
      ],
      "metadata": {
        "id": "KXfE8hKANhl4"
      },
      "execution_count": 71,
      "outputs": []
    },
    {
      "cell_type": "code",
      "source": [
        "df = len(observed) - 1"
      ],
      "metadata": {
        "id": "zdDTUWgBN0V5"
      },
      "execution_count": 72,
      "outputs": []
    },
    {
      "cell_type": "code",
      "source": [
        "p_value = 1 - stats.chi2.cdf(chi_square_stat, df)\n",
        "alpha = 0.05\n",
        "critical_value = stats.chi2.ppf(1 - alpha, df)"
      ],
      "metadata": {
        "id": "bXeXNH16N4Bp"
      },
      "execution_count": 73,
      "outputs": []
    },
    {
      "cell_type": "code",
      "source": [
        "print(f'Chi-square statistic: {chi_square_stat:.2f}')\n",
        "print(f'Degrees of freedom: {df}')\n",
        "print(f'Critical value (0.05 significance level): {critical_value:.2f}')\n",
        "print(f'P-value: {p_value:.4f}')"
      ],
      "metadata": {
        "colab": {
          "base_uri": "https://localhost:8080/"
        },
        "id": "ZW_WCjj4OJ0o",
        "outputId": "5301f0ac-73d2-4fdb-f5c2-5b51f8cc5c6a"
      },
      "execution_count": 74,
      "outputs": [
        {
          "output_type": "stream",
          "name": "stdout",
          "text": [
            "Chi-square statistic: 67.00\n",
            "Degrees of freedom: 9\n",
            "Critical value (0.05 significance level): 16.92\n",
            "P-value: 0.0000\n"
          ]
        }
      ]
    },
    {
      "cell_type": "code",
      "source": [
        "if chi_square_stat > critical_value:\n",
        "    print('Reject the null hypothesis. Observed data does not match expected distribution.')\n",
        "else:\n",
        "    print('Fail to reject the null hypothesis. Observed data matches the expected distribution.')"
      ],
      "metadata": {
        "colab": {
          "base_uri": "https://localhost:8080/"
        },
        "id": "Q-OasgDkOW0Q",
        "outputId": "d99b4c9c-e198-4f3e-aada-accec9b58b4e"
      },
      "execution_count": 75,
      "outputs": [
        {
          "output_type": "stream",
          "name": "stdout",
          "text": [
            "Reject the null hypothesis. Observed data does not match expected distribution.\n"
          ]
        }
      ]
    },
    {
      "cell_type": "code",
      "source": [
        "plt.bar(range(1, len(observed) + 1), observed, width=0.4, label='Observed', alpha=0.7)\n",
        "plt.bar(np.arange(1, len(observed) + 1) + 0.4, expected, width=0.4, label='Expected', alpha=0.7)\n",
        "plt.xlabel('Categories')\n",
        "plt.ylabel('Frequencies')\n",
        "plt.title('Observed vs Expected Frequencies')\n",
        "plt.legend()\n",
        "plt.show()"
      ],
      "metadata": {
        "colab": {
          "base_uri": "https://localhost:8080/",
          "height": 472
        },
        "id": "AGDRI--ROXw4",
        "outputId": "65380fc4-65ba-4668-8e6b-9ceb206c81c9"
      },
      "execution_count": 76,
      "outputs": [
        {
          "output_type": "display_data",
          "data": {
            "text/plain": [
              "<Figure size 640x480 with 1 Axes>"
            ],
            "image/png": "[encoded data removed]"
          },
          "metadata": {}
        }
      ]
    }
  ]
}